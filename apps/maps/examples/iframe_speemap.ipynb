{
 "cells": [
  {
   "cell_type": "code",
   "execution_count": null,
   "id": "f676254d-da33-4430-b41b-02fdcd6a135e",
   "metadata": {
    "jupyter": {
     "outputs_hidden": true
    },
    "tags": []
   },
   "outputs": [],
   "source": [
    "!pip cache purge\n",
    "!pip install calitp-map-utils==2023.5.24"
   ]
  },
  {
   "cell_type": "code",
   "execution_count": null,
   "id": "f516e058-a634-473e-aa63-0606bd424e12",
   "metadata": {
    "tags": []
   },
   "outputs": [],
   "source": [
    "# Create and validate shape\n",
    "import os\n",
    "\n",
    "os.environ[\n",
    "    \"CALITP_MAP_APP_URL\"\n",
    "] = \"https://leaflet-speedmaps--cal-itp-data-analyses.netlify.app\"\n",
    "from calitp_map_utils import State\n",
    "\n",
    "state_dict = {\n",
    "    \"layers\": [\n",
    "        {\n",
    "            \"name\": \"D7 State Highway Network\",\n",
    "            \"url\": \"https://storage.googleapis.com/calitp-map-tiles/d7_shn.geojson.gz\",\n",
    "        },\n",
    "        {\n",
    "            \"name\": \"LA Metro Bus Speed Maps AM Peak\",\n",
    "            \"url\": \"https://storage.googleapis.com/calitp-map-tiles/metro_am.geojson.gz\",\n",
    "        },\n",
    "    ],\n",
    "    \"bbox\": [[34.1, -118.5], [33.9, -118]],\n",
    "    \"basemap_config\": {\n",
    "        \"url\": \"https://{s}.basemaps.cartocdn.com/{variant}/{z}/{x}/{y}{r}.png\",\n",
    "        \"options\": {\n",
    "            \"attribution\": '&copy; <a href=\"https://www.openstreetmap.org/copyright\">OpenStreetMap</a> contributors &copy; <a href=\"https://carto.com/attributions\">CARTO</a>',\n",
    "            \"subdomains\": \"abcd\",\n",
    "            \"maxZoom\": 20,\n",
    "            \"variant\": \"light_all\",\n",
    "        },\n",
    "    },\n",
    "}\n",
    "state = State(**state_dict)\n",
    "state.validate_layers(data=True, verbose=True)\n",
    "state"
   ]
  },
  {
   "cell_type": "code",
   "execution_count": null,
   "id": "ca984e5e-3ca9-4788-9a46-ae3cb97af5d9",
   "metadata": {},
   "outputs": [],
   "source": [
    "# call iframe with state url\n",
    "from IPython.display import IFrame\n",
    "\n",
    "IFrame(state.iframe_url, width=1000, height=800)"
   ]
  },
  {
   "cell_type": "code",
   "execution_count": null,
   "id": "c56cc46c-990e-4d4f-96fb-3bb7b643115d",
   "metadata": {},
   "outputs": [],
   "source": []
  }
 ],
 "metadata": {
  "kernelspec": {
   "display_name": "Python 3 (ipykernel)",
   "language": "python",
   "name": "python3"
  },
  "language_info": {
   "codemirror_mode": {
    "name": "ipython",
    "version": 3
   },
   "file_extension": ".py",
   "mimetype": "text/x-python",
   "name": "python",
   "nbconvert_exporter": "python",
   "pygments_lexer": "ipython3",
   "version": "3.9.13"
  }
 },
 "nbformat": 4,
 "nbformat_minor": 5
}
