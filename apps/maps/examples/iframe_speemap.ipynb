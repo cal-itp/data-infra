{
 "cells": [
  {
   "cell_type": "code",
   "execution_count": null,
   "id": "f676254d-da33-4430-b41b-02fdcd6a135e",
   "metadata": {
    "jupyter": {
     "outputs_hidden": true
    },
    "tags": []
   },
   "outputs": [],
   "source": [
    "# install calitp-map-utils if not already installed\n",
    "!pip cache purge\n",
    "!pip install calitp-map-utils==2023.5.31"
   ]
  },
  {
   "cell_type": "code",
   "execution_count": null,
   "id": "f516e058-a634-473e-aa63-0606bd424e12",
   "metadata": {
    "tags": []
   },
   "outputs": [],
   "source": [
    "# Create and validate shape\n",
    "import os\n",
    "\n",
    "from calitp_map_utils import State\n",
    "\n",
    "# save data to GCS ahead of time, for example using geopandas gdf.to_json() and gcsfs fs.pipe()\n",
    "# the data must be in regular GeoJSON format right now, NOT newline-delimited GeoJSON aka NDGeoJSON/GeoJSONSeq\n",
    "\n",
    "state_dict = {\n",
    "    \"layers\": [\n",
    "        {\n",
    "            \"name\": \"D7 State Highway Network\",\n",
    "            \"url\": \"https://storage.googleapis.com/calitp-map-tiles/d7_shn.geojson.gz\",\n",
    "            \"type\": \"state_highway_network\",\n",
    "        },\n",
    "        {\n",
    "            \"name\": \"California High Quality Transit Areas - Stops\",\n",
    "            \"url\": \"https://storage.googleapis.com/calitp-map-tiles/ca_hq_transit_stops.geojson.gz\",\n",
    "        },\n",
    "        {\n",
    "            \"name\": \"LA Metro Bus Speed Maps AM Peak\",\n",
    "            \"url\": \"https://storage.googleapis.com/calitp-map-tiles/metro_am.geojson.gz\",\n",
    "            \"type\": \"speedmap\",\n",
    "        },\n",
    "    ],\n",
    "    \"bbox\": [[34.1, -118.5], [33.9, -118]],\n",
    "    \"basemap_config\": {\n",
    "        \"url\": \"https://{s}.basemaps.cartocdn.com/{variant}/{z}/{x}/{y}{r}.png\",\n",
    "        \"options\": {\n",
    "            \"attribution\": '&copy; <a href=\"https://www.openstreetmap.org/copyright\">OpenStreetMap</a> contributors &copy; <a href=\"https://carto.com/attributions\">CARTO</a>',\n",
    "            \"subdomains\": \"abcd\",\n",
    "            \"maxZoom\": 20,\n",
    "            \"variant\": \"light_all\",\n",
    "        },\n",
    "    },\n",
    "}\n",
    "state = State(**state_dict)\n",
    "state.validate_layers(data=True, verbose=True)\n",
    "state"
   ]
  },
  {
   "cell_type": "code",
   "execution_count": null,
   "id": "fdebfc7d-dee1-4dcb-b316-94c912b5a93b",
   "metadata": {},
   "outputs": [],
   "source": [
    "state.iframe_url(\n",
    "        host=\"https://leaflet-speedmaps--cal-itp-data-analyses.netlify.app\"\n",
    "    )"
   ]
  },
  {
   "cell_type": "code",
   "execution_count": null,
   "id": "ca984e5e-3ca9-4788-9a46-ae3cb97af5d9",
   "metadata": {},
   "outputs": [],
   "source": [
    "# call iframe with state url\n",
    "from IPython.display import IFrame\n",
    "\n",
    "IFrame(\n",
    "    state.iframe_url(\n",
    "        host=\"https://leaflet-speedmaps--cal-itp-data-analyses.netlify.app\"\n",
    "    ),\n",
    "    width=1000,\n",
    "    height=800,\n",
    ")"
   ]
  },
  {
   "cell_type": "code",
   "execution_count": null,
   "id": "c56cc46c-990e-4d4f-96fb-3bb7b643115d",
   "metadata": {},
   "outputs": [],
   "source": []
  }
 ],
 "metadata": {
  "kernelspec": {
   "display_name": "Python 3 (ipykernel)",
   "language": "python",
   "name": "python3"
  },
  "language_info": {
   "codemirror_mode": {
    "name": "ipython",
    "version": 3
   },
   "file_extension": ".py",
   "mimetype": "text/x-python",
   "name": "python",
   "nbconvert_exporter": "python",
   "pygments_lexer": "ipython3",
   "version": "3.9.13"
  }
 },
 "nbformat": 4,
 "nbformat_minor": 5
}
