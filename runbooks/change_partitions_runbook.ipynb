{
 "cells": [
  {
   "cell_type": "code",
   "execution_count": 1,
   "id": "74eb666f-6645-482f-8cda-018df4c06d84",
   "metadata": {},
   "outputs": [
    {
     "name": "stderr",
     "output_type": "stream",
     "text": [
      "/opt/conda/lib/python3.10/site-packages/google/auth/_default.py:81: UserWarning: Your application has authenticated using end user credentials from Google Cloud SDK without a quota project. You might receive a \"quota exceeded\" or \"API not enabled\" error. We recommend you rerun `gcloud auth application-default login` and make sure a quota project is added. Or you can use service accounts instead. For more information about service accounts, see https://cloud.google.com/docs/authentication/\n",
      "  warnings.warn(_CLOUD_SDK_CREDENTIALS_WARNING)\n"
     ]
    }
   ],
   "source": [
    "from calitp.storage import get_fs\n",
    "fs = get_fs()"
   ]
  },
  {
   "cell_type": "code",
   "execution_count": 2,
   "id": "a6763d9c-bbac-47d3-9ec5-ee119905cc5e",
   "metadata": {},
   "outputs": [
    {
     "data": {
      "text/plain": [
       "3150"
      ]
     },
     "execution_count": 2,
     "metadata": {},
     "output_type": "execute_result"
    }
   ],
   "source": [
    "from tqdm.notebook import tqdm\n",
    "files = fs.expand_path('gs://test-calitp-gtfs-schedule-raw/schedule/', recursive=True)\n",
    "files = [file for file in files if \"ts\" in file and fs.stat(file)[\"type\"] != \"directory\"]\n",
    "len(files)"
   ]
  },
  {
   "cell_type": "code",
   "execution_count": 3,
   "id": "c6bbcf9d-b2ff-4e7b-a921-8db98c3bff37",
   "metadata": {},
   "outputs": [
    {
     "data": {
      "text/plain": [
       "[('test-calitp-gtfs-schedule-raw/schedule/dt=1901-01-01/base64_url=aHR0cDovL21hcmludHJhbnNpdC5vcmcvZGF0YS9nb29nbGVfdHJhbnNpdC56aXA=/ts=1901-01-01T12:43:06.265686+00:00/valid_dir.zip',\n",
       "  'test-calitp-gtfs-schedule-raw',\n",
       "  'schedule',\n",
       "  'dt=1901-01-01',\n",
       "  'base64_url=aHR0cDovL21hcmludHJhbnNpdC5vcmcvZGF0YS9nb29nbGVfdHJhbnNpdC56aXA=',\n",
       "  'ts=1901-01-01T12:43:06.265686+00:00',\n",
       "  'valid_dir.zip'),\n",
       " ('test-calitp-gtfs-schedule-raw/schedule/dt=1901-01-01/base64_url=aHR0cDovL21hcmludHJhbnNpdC5vcmcvZGF0YS9nb29nbGVfdHJhbnNpdC56aXA=/ts=1901-01-01T13:43:06.265686+00:00/invalid_dir_toplevel.zip',\n",
       "  'test-calitp-gtfs-schedule-raw',\n",
       "  'schedule',\n",
       "  'dt=1901-01-01',\n",
       "  'base64_url=aHR0cDovL21hcmludHJhbnNpdC5vcmcvZGF0YS9nb29nbGVfdHJhbnNpdC56aXA=',\n",
       "  'ts=1901-01-01T13:43:06.265686+00:00',\n",
       "  'invalid_dir_toplevel.zip'),\n",
       " ('test-calitp-gtfs-schedule-raw/schedule/dt=1901-01-01/base64_url=aHR0cDovL21hcmludHJhbnNpdC5vcmcvZGF0YS9nb29nbGVfdHJhbnNpdC56aXA=/ts=1901-01-01T14:43:06.265686+00:00/invalid_dir_nested.zip',\n",
       "  'test-calitp-gtfs-schedule-raw',\n",
       "  'schedule',\n",
       "  'dt=1901-01-01',\n",
       "  'base64_url=aHR0cDovL21hcmludHJhbnNpdC5vcmcvZGF0YS9nb29nbGVfdHJhbnNpdC56aXA=',\n",
       "  'ts=1901-01-01T14:43:06.265686+00:00',\n",
       "  'invalid_dir_nested.zip'),\n",
       " ('test-calitp-gtfs-schedule-raw/schedule/dt=1901-01-01/base64_url=aHR0cDovL21hcmludHJhbnNpdC5vcmcvZGF0YS9nb29nbGVfdHJhbnNpdC56aXA=/ts=1901-01-01T17:43:06.265686+00:00/google_transit.zip',\n",
       "  'test-calitp-gtfs-schedule-raw',\n",
       "  'schedule',\n",
       "  'dt=1901-01-01',\n",
       "  'base64_url=aHR0cDovL21hcmludHJhbnNpdC5vcmcvZGF0YS9nb29nbGVfdHJhbnNpdC56aXA=',\n",
       "  'ts=1901-01-01T17:43:06.265686+00:00',\n",
       "  'google_transit.zip'),\n",
       " ('test-calitp-gtfs-schedule-raw/schedule/dt=1901-12-31/base64_url=aHR0cHM6Ly9sYXVyaWUudGVzdA=/ts=2022-01-01T19:05:26.421034+00:00/test_gtfs_mix_files_and_directory.zip',\n",
       "  'test-calitp-gtfs-schedule-raw',\n",
       "  'schedule',\n",
       "  'dt=1901-12-31',\n",
       "  'base64_url=aHR0cHM6Ly9sYXVyaWUudGVzdA=',\n",
       "  'ts=2022-01-01T19:05:26.421034+00:00',\n",
       "  'test_gtfs_mix_files_and_directory.zip')]"
      ]
     },
     "execution_count": 3,
     "metadata": {},
     "output_type": "execute_result"
    }
   ],
   "source": [
    "paths = [(path, *path.split(\"/\")) for path in files]\n",
    "paths[:5]"
   ]
  },
  {
   "cell_type": "code",
   "execution_count": 4,
   "id": "1a5cac31-d58f-48ef-862c-3ac08aba3f1f",
   "metadata": {},
   "outputs": [
    {
     "name": "stdout",
     "output_type": "stream",
     "text": [
      "Collecting pendulum\n",
      "  Downloading pendulum-2.1.2.tar.gz (81 kB)\n",
      "\u001b[2K     \u001b[90m━━━━━━━━━━━━━━━━━━━━━━━━━━━━━━━━━━━━━━━━\u001b[0m \u001b[32m81.2/81.2 kB\u001b[0m \u001b[31m4.1 MB/s\u001b[0m eta \u001b[36m0:00:00\u001b[0m\n",
      "\u001b[?25h  Installing build dependencies ... \u001b[?25ldone\n",
      "\u001b[?25h  Getting requirements to build wheel ... \u001b[?25ldone\n",
      "\u001b[?25h  Preparing metadata (pyproject.toml) ... \u001b[?25ldone\n",
      "\u001b[?25hRequirement already satisfied: python-dateutil<3.0,>=2.6 in /opt/conda/lib/python3.10/site-packages (from pendulum) (2.8.2)\n",
      "Collecting pytzdata>=2020.1\n",
      "  Downloading pytzdata-2020.1-py2.py3-none-any.whl (489 kB)\n",
      "\u001b[2K     \u001b[90m━━━━━━━━━━━━━━━━━━━━━━━━━━━━━━━━━━━━━━\u001b[0m \u001b[32m490.0/490.0 kB\u001b[0m \u001b[31m19.9 MB/s\u001b[0m eta \u001b[36m0:00:00\u001b[0m\n",
      "\u001b[?25hRequirement already satisfied: six>=1.5 in /opt/conda/lib/python3.10/site-packages (from python-dateutil<3.0,>=2.6->pendulum) (1.16.0)\n",
      "Building wheels for collected packages: pendulum\n",
      "  Building wheel for pendulum (pyproject.toml) ... \u001b[?25ldone\n",
      "\u001b[?25h  Created wheel for pendulum: filename=pendulum-2.1.2-cp310-cp310-manylinux_2_35_x86_64.whl size=128338 sha256=a79cdc34e7dd7d2711bdb219819b3921151d57e845d708b6e9219c8789dcc6a5\n",
      "  Stored in directory: /home/jovyan/.cache/pip/wheels/2e/41/ed/f113e4c9dc10f6c846d69f412e9cd9aa429960a3e2e485a4f9\n",
      "Successfully built pendulum\n",
      "Installing collected packages: pytzdata, pendulum\n",
      "Successfully installed pendulum-2.1.2 pytzdata-2020.1\n",
      "Note: you may need to restart the kernel to use updated packages.\n"
     ]
    }
   ],
   "source": [
    "%pip install pendulum"
   ]
  },
  {
   "cell_type": "code",
   "execution_count": 8,
   "id": "90dea8da-d5ee-4d07-ae4b-22e24a045e57",
   "metadata": {
    "tags": []
   },
   "outputs": [
    {
     "data": {
      "text/plain": [
       "[('test-calitp-gtfs-schedule-raw/schedule/dt=1901-01-01/base64_url=aHR0cDovL21hcmludHJhbnNpdC5vcmcvZGF0YS9nb29nbGVfdHJhbnNpdC56aXA=/ts=1901-01-01T12:43:06.265686+00:00/valid_dir.zip',\n",
       "  'test-calitp-gtfs-schedule-raw/schedule/dt=1901-01-01/ts=1901-01-01T12:43:06.265686+00:00/base64_url=aHR0cDovL21hcmludHJhbnNpdC5vcmcvZGF0YS9nb29nbGVfdHJhbnNpdC56aXA=/valid_dir.zip'),\n",
       " ('test-calitp-gtfs-schedule-raw/schedule/dt=1901-01-01/base64_url=aHR0cDovL21hcmludHJhbnNpdC5vcmcvZGF0YS9nb29nbGVfdHJhbnNpdC56aXA=/ts=1901-01-01T13:43:06.265686+00:00/invalid_dir_toplevel.zip',\n",
       "  'test-calitp-gtfs-schedule-raw/schedule/dt=1901-01-01/ts=1901-01-01T13:43:06.265686+00:00/base64_url=aHR0cDovL21hcmludHJhbnNpdC5vcmcvZGF0YS9nb29nbGVfdHJhbnNpdC56aXA=/invalid_dir_toplevel.zip'),\n",
       " ('test-calitp-gtfs-schedule-raw/schedule/dt=1901-01-01/base64_url=aHR0cDovL21hcmludHJhbnNpdC5vcmcvZGF0YS9nb29nbGVfdHJhbnNpdC56aXA=/ts=1901-01-01T14:43:06.265686+00:00/invalid_dir_nested.zip',\n",
       "  'test-calitp-gtfs-schedule-raw/schedule/dt=1901-01-01/ts=1901-01-01T14:43:06.265686+00:00/base64_url=aHR0cDovL21hcmludHJhbnNpdC5vcmcvZGF0YS9nb29nbGVfdHJhbnNpdC56aXA=/invalid_dir_nested.zip'),\n",
       " ('test-calitp-gtfs-schedule-raw/schedule/dt=1901-01-01/base64_url=aHR0cDovL21hcmludHJhbnNpdC5vcmcvZGF0YS9nb29nbGVfdHJhbnNpdC56aXA=/ts=1901-01-01T17:43:06.265686+00:00/google_transit.zip',\n",
       "  'test-calitp-gtfs-schedule-raw/schedule/dt=1901-01-01/ts=1901-01-01T17:43:06.265686+00:00/base64_url=aHR0cDovL21hcmludHJhbnNpdC5vcmcvZGF0YS9nb29nbGVfdHJhbnNpdC56aXA=/google_transit.zip'),\n",
       " ('test-calitp-gtfs-schedule-raw/schedule/dt=1901-12-31/base64_url=aHR0cHM6Ly9sYXVyaWUudGVzdA=/ts=2022-01-01T19:05:26.421034+00:00/test_gtfs_mix_files_and_directory.zip',\n",
       "  'test-calitp-gtfs-schedule-raw/schedule/dt=1901-12-31/ts=2022-01-01T19:05:26.421034+00:00/base64_url=aHR0cHM6Ly9sYXVyaWUudGVzdA=/test_gtfs_mix_files_and_directory.zip')]"
      ]
     },
     "execution_count": 8,
     "metadata": {},
     "output_type": "execute_result"
    }
   ],
   "source": [
    "import pendulum\n",
    "from datetime import datetime\n",
    "moves = []\n",
    "for og_path, bucket, table, dt, base64url, ts, filename in paths:\n",
    "    pdt = pendulum.parse(dt.replace(\"dt=\", \"\"), exact=True)\n",
    "    assert isinstance(pdt, pendulum.Date)\n",
    "    pts = pendulum.parse(time.replace(\"ts=\", \"\"), exact=True)\n",
    "    assert isinstance(pts, pendulum.DateTime)\n",
    "    new_path = \"/\".join([bucket, table, dt, ts, base64url, filename])\n",
    "    moves.append((og_path, new_path))\n",
    "moves[:5]"
   ]
  },
  {
   "cell_type": "code",
   "execution_count": null,
   "id": "461f52bc-465f-4088-b9d9-5a29607852f4",
   "metadata": {},
   "outputs": [],
   "source": [
    "for og_path, new_path in tqdm(moves):\n",
    "    #print(og_path, new_path)\n",
    "    #break\n",
    "    fs.mv(og_path, new_path)"
   ]
  },
  {
   "cell_type": "code",
   "execution_count": null,
   "id": "03756990-89b3-4679-9880-a9d7a30a8e01",
   "metadata": {},
   "outputs": [],
   "source": []
  }
 ],
 "metadata": {
  "kernelspec": {
   "display_name": "Python 3 (ipykernel)",
   "language": "python",
   "name": "python3"
  },
  "language_info": {
   "codemirror_mode": {
    "name": "ipython",
    "version": 3
   },
   "file_extension": ".py",
   "mimetype": "text/x-python",
   "name": "python",
   "nbconvert_exporter": "python",
   "pygments_lexer": "ipython3",
   "version": "3.10.5"
  }
 },
 "nbformat": 4,
 "nbformat_minor": 5
}
