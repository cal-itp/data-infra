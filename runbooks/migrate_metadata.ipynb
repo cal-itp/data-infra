{
 "cells": [
  {
   "cell_type": "code",
   "execution_count": null,
   "id": "59e4dddb-a880-46d5-986e-3f92c812d254",
   "metadata": {
    "tags": []
   },
   "outputs": [],
   "source": [
    "# do this first and restart kernel\n",
    "# need version of the GTFSDownloadConfig class that has optional config.extracted_at\n",
    "%pip install calitp==\"2022.9.13a0\"\n",
    "%pip install pendulum"
   ]
  },
  {
   "cell_type": "code",
   "execution_count": null,
   "id": "c5bf8d01-fd85-4675-be80-7d5279a339b2",
   "metadata": {},
   "outputs": [],
   "source": [
    "from calitp.storage import get_fs\n",
    "fs = get_fs()"
   ]
  },
  {
   "cell_type": "code",
   "execution_count": null,
   "id": "ef620194-acea-4bca-b651-b51aa207f6b5",
   "metadata": {},
   "outputs": [],
   "source": [
    "# configuration\n",
    "RT_BUCKET = \"test-calitp-gtfs-rt-raw\""
   ]
  },
  {
   "cell_type": "code",
   "execution_count": null,
   "id": "ba930256-759f-45c6-b256-ac4fb2731ea0",
   "metadata": {},
   "outputs": [],
   "source": [
    "# Get the list of RT files to update\n",
    "#from tqdm.notebook import tqdm\n",
    "from tqdm.auto import tqdm\n",
    "\n",
    "def handle_type_day(typ, dt):\n",
    "    proto_files = fs.expand_path(f'gs://{RT_BUCKET}/{typ}/dt={dt}', recursive=True)\n",
    "    return [file for file in tqdm(proto_files, desc='Filtering out directories') if fs.stat(file)[\"type\"] != \"directory\"]"
   ]
  },
  {
   "cell_type": "code",
   "execution_count": null,
   "id": "c7b98821-e8f3-4f10-97cc-4f38d825c0d0",
   "metadata": {},
   "outputs": [],
   "source": [
    "import json\n",
    "\n",
    "def get_metadata(files):\n",
    "    metadatas = []\n",
    "    missing_metadata = []\n",
    "    for file in tqdm(files, desc='Getting metadata'):\n",
    "        try:\n",
    "            metadatas.append((file, json.loads(fs.getxattr(file, PARTITIONED_ARTIFACT_METADATA_KEY))))\n",
    "        except KeyError:\n",
    "            missing_metadata.append(file)\n",
    "    return metadatas, missing_metadata"
   ]
  },
  {
   "cell_type": "code",
   "execution_count": null,
   "id": "48db1fef-15f7-4181-863c-b57b7195fba8",
   "metadata": {
    "tags": []
   },
   "outputs": [],
   "source": [
    "files = handle_type_day(typ=\"vehicle_positions\", dt=\"2022-08-12\")\n",
    "metadatas, missing = get_metadata(files)\n",
    "len(files), len(metadatas), len(missing)"
   ]
  },
  {
   "cell_type": "code",
   "execution_count": null,
   "id": "2c4b06ff-351c-469b-97c6-c5394d3aef0b",
   "metadata": {},
   "outputs": [],
   "source": [
    "files_without_config = [meta for meta in metadatas if \"config\" not in meta[1]]\n",
    "files_without_config, missing"
   ]
  },
  {
   "cell_type": "code",
   "execution_count": null,
   "id": "6350b7a4-e0eb-4093-8fd7-3811b481b186",
   "metadata": {},
   "outputs": [],
   "source": [
    "(\n",
    "    sorted(metadatas, key=lambda m: m[1][\"ts\"], reverse=True)[0],\n",
    "    set(json.dumps(metadata[\"config\"][\"auth_query_param\"]) for (file, metadata) in metadatas),\n",
    "    #set(json.dumps(metadata[\"config\"][\"auth_headers\"]) for (file, metadata) in metadatas),\n",
    ")"
   ]
  },
  {
   "cell_type": "code",
   "execution_count": null,
   "id": "6fb0aff7-0317-4d0a-914a-d70744850f82",
   "metadata": {},
   "outputs": [],
   "source": [
    "import pendulum\n",
    "from typing import Dict\n",
    "from calitp.storage import AirtableGTFSDataRecord, AirtableGTFSDataExtract, get_latest_file\n",
    "\n",
    "import os\n",
    "os.environ[\"CALITP_BUCKET__AIRTABLE\"] = \"\"\n",
    "\n",
    "def get_airtable_gtfs_records_for_day(\n",
    "    dt: pendulum.Date,\n",
    ") -> Dict[str, AirtableGTFSDataRecord]:\n",
    "    file = get_latest_file(\n",
    "        AirtableGTFSDataExtract.bucket,\n",
    "        AirtableGTFSDataExtract.table,\n",
    "        prefix_partitions={\n",
    "            \"dt\": dt,\n",
    "        },\n",
    "        partition_types={\n",
    "            \"ts\": pendulum.DateTime,\n",
    "        },\n",
    "    )\n",
    "\n",
    "    with get_fs().open(file.name, \"rb\") as f:\n",
    "        content = gzip.decompress(f.read())\n",
    "    records = [\n",
    "        AirtableGTFSDataRecord(**json.loads(row))\n",
    "        for row in content.decode().splitlines()\n",
    "    ]\n",
    "\n",
    "    return {record.id: record for record in records}\n",
    "len(get_airtable_gtfs_records_for_day(pendulum.Date(2022, 8, 15)))"
   ]
  },
  {
   "cell_type": "code",
   "execution_count": null,
   "id": "2151aea1-0cd7-4b53-bc42-7680964bca5b",
   "metadata": {},
   "outputs": [],
   "source": [
    "import pendulum\n",
    "from calitp.storage import GTFSDownloadConfig, GTFSRTFeedExtract, PARTITIONED_ARTIFACT_METADATA_KEY\n",
    "\n",
    "def update_metadata(filepath, meta, write=False):\n",
    "    meta = meta.copy()\n",
    "    config = meta.pop(\"config\")\n",
    "    ts = pendulum.parse(meta.pop(\"ts\"), exact=True)\n",
    "    assert config\n",
    "    uri = config[\"uri\"]\n",
    "    if \"goswift.ly\" in uri:\n",
    "        headers = {\"authorization\": \"SWIFTLY_AUTHORIZATION_KEY_CALITP\"}\n",
    "    elif \"west-hollywood\" in uri:\n",
    "        headers ={\"x-umo-iq-api-key\": \"WEHO_RT_KEY\"}\n",
    "    else:\n",
    "        headers = {}\n",
    "    extract = GTFSRTFeedExtract(\n",
    "        ts=ts,\n",
    "        config=GTFSDownloadConfig(\n",
    "            name=config.get(\"name\"),\n",
    "            url=uri,\n",
    "            feed_type=config[\"data\"],\n",
    "            schedule_url_for_validation=\"https://google.com\",\n",
    "            auth_query_params=config[\"auth_query_param\"],\n",
    "            auth_headers=headers,\n",
    "        ),\n",
    "        **meta,\n",
    "    )\n",
    "    if write:\n",
    "        pass\n",
    "        #fs.setxattr(**{PARTITIONED_ARTIFACT_METADATA_KEY: extract.json()})\n",
    "\n",
    "for filepath, meta in tqdm(metadatas, desc=\"Updating metadatas\"):\n",
    "    update_metadata(filepath, meta, write=False)"
   ]
  },
  {
   "cell_type": "code",
   "execution_count": null,
   "id": "efc7ff1c-31a4-4885-9917-6da9ac1b9d2b",
   "metadata": {},
   "outputs": [],
   "source": []
  }
 ],
 "metadata": {
  "kernelspec": {
   "display_name": "Python 3 (ipykernel)",
   "language": "python",
   "name": "python3"
  },
  "language_info": {
   "codemirror_mode": {
    "name": "ipython",
    "version": 3
   },
   "file_extension": ".py",
   "mimetype": "text/x-python",
   "name": "python",
   "nbconvert_exporter": "python",
   "pygments_lexer": "ipython3",
   "version": "3.10.5"
  }
 },
 "nbformat": 4,
 "nbformat_minor": 5
}
