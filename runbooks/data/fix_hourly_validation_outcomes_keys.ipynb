{
 "cells": [
  {
   "cell_type": "code",
   "execution_count": null,
   "id": "0eba49b2-32ea-4330-9e2b-de6273147a02",
   "metadata": {},
   "outputs": [],
   "source": [
    "from calitp_data.storage import get_fs\n",
    "fs = get_fs()\n",
    "fs"
   ]
  },
  {
   "cell_type": "code",
   "execution_count": null,
   "id": "d774b39b-cc69-4631-b645-dd3c13adfc4b",
   "metadata": {},
   "outputs": [],
   "source": [
    "bucket = 'gs://test-calitp-gtfs-schedule-validation-hourly'\n",
    "files = fs.find(f'{bucket}/validation_job_results')\n",
    "list(files)"
   ]
  },
  {
   "cell_type": "code",
   "execution_count": null,
   "id": "9832b6a2-84cf-4546-8455-7bc0495a3b5a",
   "metadata": {},
   "outputs": [],
   "source": [
    "files[0].split('/')"
   ]
  },
  {
   "cell_type": "code",
   "execution_count": null,
   "id": "99db5c84-811d-4d9c-a4b2-6b9d1f9ffc41",
   "metadata": {},
   "outputs": [],
   "source": [
    "import pendulum\n",
    "from collections import namedtuple\n",
    "Move = namedtuple('Move', ['src', 'to'])\n",
    "moves = []\n",
    "for file in files:\n",
    "    _bucket, table, dt, ts, filename = file.split('/')\n",
    "    dt_key, dt_str = dt.split('=')\n",
    "    assert dt_key == 'dt'\n",
    "    dt = pendulum.parse(dt_str).date()\n",
    "    moves.append(Move(src=f\"gs://{file}\", to=f\"gs://{_bucket}/{table}/dt={dt}/{ts}/{filename}\"))\n",
    "\n",
    "moves[0]"
   ]
  },
  {
   "cell_type": "code",
   "execution_count": null,
   "id": "06d0d7d4-aaad-4c40-a0d6-c3dc03f2273b",
   "metadata": {},
   "outputs": [],
   "source": [
    "from tqdm import tqdm\n",
    "\n",
    "for move in tqdm(moves):\n",
    "    print(move)\n",
    "    assert move.to.startswith(bucket)\n",
    "    #fs.cp(*move)"
   ]
  },
  {
   "cell_type": "code",
   "execution_count": null,
   "id": "8a62c673-e1f2-4fbd-95bc-4a8f4e975514",
   "metadata": {},
   "outputs": [],
   "source": [
    "for move in tqdm(moves):\n",
    "    assert move.src.startswith(bucket)\n",
    "    fs.rm(move.src)"
   ]
  },
  {
   "cell_type": "code",
   "execution_count": null,
   "id": "40950e29-f767-4e38-bb94-40ae6d515c7a",
   "metadata": {},
   "outputs": [],
   "source": []
  }
 ],
 "metadata": {
  "kernelspec": {
   "display_name": "Python 3 (ipykernel)",
   "language": "python",
   "name": "python3"
  },
  "language_info": {
   "codemirror_mode": {
    "name": "ipython",
    "version": 3
   },
   "file_extension": ".py",
   "mimetype": "text/x-python",
   "name": "python",
   "nbconvert_exporter": "python",
   "pygments_lexer": "ipython3",
   "version": "3.9.13"
  }
 },
 "nbformat": 4,
 "nbformat_minor": 5
}
