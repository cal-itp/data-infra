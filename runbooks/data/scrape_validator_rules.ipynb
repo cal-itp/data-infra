{
 "cells": [
  {
   "attachments": {},
   "cell_type": "markdown",
   "id": "b6492fd5",
   "metadata": {},
   "source": [
    "This notebook was created to scrape information about the canonical GTFS validator's rules for consumption into dbt seed files. It downloads a zipfile from the [validator release page](https://github.com/MobilityData/gtfs-validator/releases), extracts the RULES.md file, and does some regex on the rules markdown to get a list of codes with their human-readable descriptions. "
   ]
  },
  {
   "cell_type": "code",
   "execution_count": null,
   "id": "0560e9a7",
   "metadata": {},
   "outputs": [],
   "source": [
    "import zipfile\n",
    "from io import BytesIO\n",
    "import requests\n",
    "import re\n",
    "import pandas as pd"
   ]
  },
  {
   "cell_type": "code",
   "execution_count": null,
   "id": "6381b6c4-24a1-4203-a849-954a17f84722",
   "metadata": {},
   "outputs": [],
   "source": [
    "for version in ['2.0.0', '3.1.1', '4.0.0']:\n",
    "    print(f'Processing version {version}')\n",
    "    # load the zipfile from github\n",
    "    # borrowed some syntax here from https://github.com/chihacknight/chn-ghost-buses/blob/main/data_analysis/notebooks/static_gtfs_analysis.ipynb\n",
    "    print('Loading zipfile')\n",
    "    raw_zip = zipfile.ZipFile(BytesIO(requests.get(f'https://github.com/MobilityData/gtfs-validator/archive/refs/tags/v{version}.zip').content))\n",
    "    \n",
    "    # load the versioned rules file\n",
    "    print('Parsing rules')\n",
    "    with raw_zip.open(f'gtfs-validator-{version}/RULES.md') as f:\n",
    "        rules = str(f.read())\n",
    "        \n",
    "    # regex the markdown to pull out rule descriptions \n",
    "    rule_text = dict(zip(re.findall('### (\\w+)\\\\\\\\n\\\\\\\\n.+?\\\\\\\\n', rules), re.findall('### \\w+\\\\\\\\n\\\\\\\\n(.+?)\\\\\\\\n', rules)))\n",
    "    \n",
    "    # convert regex results to dataframe\n",
    "    rules_df = pd.DataFrame.from_dict(rule_text, orient = 'index', columns = ['human_readable_description']).reset_index().rename(columns = {'index': 'code'})\n",
    "    \n",
    "    # record version within dataframe\n",
    "    rules_df['version'] = 'v' + version\n",
    "    \n",
    "    filename = f'gtfs_schedule_validator_rule_details_v{version}.csv'\n",
    "    print(f'Saving to {filename}')\n",
    "    # save to file\n",
    "    rules_df.to_csv(filename, index = False)"
   ]
  },
  {
   "cell_type": "code",
   "execution_count": null,
   "id": "1ad4c025-70b5-4d14-b196-393cb17d368c",
   "metadata": {},
   "outputs": [],
   "source": []
  }
 ],
 "metadata": {
  "kernelspec": {
   "display_name": "Python 3 (ipykernel)",
   "language": "python",
   "name": "python3"
  },
  "language_info": {
   "codemirror_mode": {
    "name": "ipython",
    "version": 3
   },
   "file_extension": ".py",
   "mimetype": "text/x-python",
   "name": "python",
   "nbconvert_exporter": "python",
   "pygments_lexer": "ipython3",
   "version": "3.9.13"
  }
 },
 "nbformat": 4,
 "nbformat_minor": 5
}
