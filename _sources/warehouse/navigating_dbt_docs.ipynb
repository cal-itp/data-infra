{
 "cells": [
  {
   "cell_type": "markdown",
   "id": "13dd41d7",
   "metadata": {},
   "source": [
    "# Navigating the dbt Docs\n",
    "\n",
    "`dbt` is the tool that we use to create data transformations in our warehouse, and it is also the tool that generates our dataset and table documentation.\n",
    "\n",
    "Visit this link to view the [dbt Cal-ITP warehouse documentation](https://dbt-docs.calitp.org/#!/overview).\n",
    "\n",
    "## How to use the documentation\n",
    "\n",
    "In the [dbt Cal-ITP warehouse documentation](https://dbt-docs.calitp.org/#!/overview), you can navigate from either the `Database` perspective (table-level) or the `Project` perspective (as the files are configured in the repository).\n",
    "\n",
    "### The `Database` Perspective\n",
    "\n",
    "This allows you to view the dbt project as it exists in the warehouse.\n",
    "\n",
    "To examine the documentation from the `Database` perspective:\n",
    "\n",
    "1. Once at the [dbt docs homepage](https://dbt-docs.calitp.org/#!/overview), make sure that the `Database` tab is selected in the left-side panel\n",
    "2. In the same left-side panel, under the `Tables and Views` heading, click on `cal-itp-data-infra` which will expand\n",
    "3. Within that list, select the dataset schema of your choice\n",
    "4. From here, a dropdown list of tables will appear and you can select a table to view its documentation\n",
    "\n",
    "### The `Project` Perspective\n",
    "\n",
    "This allows you to view the warehouse project as it exists as files in the repository.\n",
    "\n",
    "To examine the documentation for our tables from the `Project` perspective:\n",
    "\n",
    "- Once at the [dbt docs homepage](https://dbt-docs.calitp.org/#!/overview), make sure that the `Project` tab is selected in the left-side panel.\n",
    "  - To examine our `source` tables:\n",
    "\n",
    "    1. In the same left-side panel, find the `Sources` heading\n",
    "    2. From here, select the source that you would like to view\n",
    "    3. A dropdown list of tables will appear and you can select a table to view its documentation\n",
    "\n",
    "  - To examine all of our other tables:\n",
    "\n",
    "    1. In the same left-side panel, under the `Projects`, heading click on `calitp_warehouse` which will expand.\n",
    "    2. Within that list, select `models`\n",
    "    3. From here, file directories will appear below.\n",
    "    4. Select the directory of your choice. A dropdown list of tables will appear and you can select a table to view its documentation"
   ]
  }
 ],
 "metadata": {
  "jupytext": {
   "cell_metadata_filter": "-all",
   "formats": "md:myst",
   "text_representation": {
    "extension": ".md",
    "format_name": "myst",
    "format_version": 0.13,
    "jupytext_version": "1.10.3"
   }
  },
  "kernelspec": {
   "display_name": "Python 3 (ipykernel)",
   "language": "python",
   "name": "python3"
  },
  "language_info": {
   "codemirror_mode": {
    "name": "ipython",
    "version": 3
   },
   "file_extension": ".py",
   "mimetype": "text/x-python",
   "name": "python",
   "nbconvert_exporter": "python",
   "pygments_lexer": "ipython3",
   "version": "3.9.18"
  },
  "source_map": [
   14
  ]
 },
 "nbformat": 4,
 "nbformat_minor": 5
}